{
 "cells": [
  {
   "cell_type": "code",
   "execution_count": 1,
   "metadata": {
    "collapsed": true
   },
   "outputs": [],
   "source": [
    "from labwaves import Run\n",
    "\n",
    "okruns = [\n",
    "    'r13_01_08a',\n",
    "    'r13_01_08c',\n",
    "    'r13_01_08d',\n",
    "    'r13_01_09a',\n",
    "    'r13_01_11b',\n",
    "    'r13_01_11c',\n",
    "    'r13_01_12a',\n",
    "]\n",
    "\n",
    "runs = [Run(index, autoload=False) for index in okruns]"
   ]
  },
  {
   "cell_type": "code",
   "execution_count": 3,
   "metadata": {
    "collapsed": false
   },
   "outputs": [
    {
     "name": "stdout",
     "output_type": "stream",
     "text": [
      "r13_01_08a\n",
      "done\n",
      "r13_01_08c\n",
      "done\n",
      "r13_01_08d\n",
      "done\n",
      "r13_01_09a\n",
      "done\n",
      "r13_01_11b\n",
      "done\n",
      "r13_01_11c\n",
      "done\n",
      "r13_01_12a\n",
      "done\n"
     ]
    }
   ],
   "source": [
    "for run in runs:\n",
    "    print run.index\n",
    "    run.extract()\n",
    "    run.save(overwrite=True)\n",
    "    print 'done'"
   ]
  }
 ],
 "metadata": {
  "kernelspec": {
   "display_name": "Python 2",
   "language": "python",
   "name": "python2"
  },
  "language_info": {
   "codemirror_mode": {
    "name": "ipython",
    "version": 2
   },
   "file_extension": ".py",
   "mimetype": "text/x-python",
   "name": "python",
   "nbconvert_exporter": "python",
   "pygments_lexer": "ipython2",
   "version": "2.7.10"
  }
 },
 "nbformat": 4,
 "nbformat_minor": 0
}

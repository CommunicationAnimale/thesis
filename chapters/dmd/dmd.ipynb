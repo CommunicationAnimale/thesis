{
 "metadata": {},
 "nbformat": 3,
 "nbformat_minor": 0,
 "worksheets": [
  {
   "cells": [
    {
     "cell_type": "markdown",
     "metadata": {},
     "source": [
      "## Introduce DMD\n",
      "\n",
      "### Build Physical Intuition\n",
      "\n",
      "### Basic Linear Algebra\n",
      "\n",
      "### Compare with POD / EOF\n",
      "\n",
      "\n",
      "## Apply DMD to data"
     ]
    },
    {
     "cell_type": "code",
     "collapsed": false,
     "input": [
      "import numpy as np\n",
      "import matplotlib.pyplot as plt\n",
      "%matplotlib inline\n",
      "\n",
      "import gc_turbulence as g\n",
      "import sparse_dmd\n",
      "from sparse_dmd import DMD\n",
      "\n",
      "\n",
      "index = 'r14_01_14a'\n",
      "# waveless is temporary until we integrate into ProcessedRun\n",
      "r = g.WavelessRun(index)\n",
      "\n",
      "# 400 is temporary until we clean out the nans\n",
      "uf = r.Uf[:, :, 400:]\n",
      "\n",
      "snapshots = sparse_dmd.to_snaps(uf, decomp_axis=1)\n",
      "dmd = DMD(snapshots)\n",
      "dmd.compute()"
     ],
     "language": "python",
     "metadata": {},
     "outputs": []
    },
    {
     "cell_type": "markdown",
     "metadata": {},
     "source": [
      "Basic dmd plots..."
     ]
    },
    {
     "cell_type": "code",
     "collapsed": false,
     "input": [
      "fig, ax = plt.subplots()\n",
      "ax.set_title('|xdmd| vs frequency')\n",
      "ax.set_xlabel('frequency')\n",
      "ax.set_ylabel('amplitude')\n",
      "ax.plot(dmd.frequencies.imag, np.abs(dmd.amplitudes), 'ko')"
     ],
     "language": "python",
     "metadata": {},
     "outputs": [
      {
       "output_type": "pyout",
       "prompt_number": 2,
       "text": [
        "[<matplotlib.lines.Line2D at 0x7fcc74028050>]"
       ]
      },
      {
       "output_type": "display_data",
       "png": "[encoded data removed]",
       "text": [
        "<matplotlib.figure.Figure at 0x7fcc74028310>"
       ]
      }
     ],
     "prompt_number": 2
    },
    {
     "cell_type": "markdown",
     "metadata": {},
     "source": [
      "## Introduce problem 'how to select modes'?\n",
      "\n",
      "Overview existing methods - the intensive one used by chen?, semeraro, sparse\n",
      "dmd\n",
      "\n",
      "semeraro - 'convergence on attractors of fully developed turbulence'\n",
      "\n",
      "## Define sparse method\n",
      "\n",
      "\n",
      "## Apply sparse method"
     ]
    },
    {
     "cell_type": "code",
     "collapsed": false,
     "input": [
      "from sparse_dmd import SparseDMD\n",
      "\n",
      "sdmd = SparseDMD(dmd=dmd)\n",
      "# TODO: define appropriate gammaval\n",
      "sdmd.compute_sparse(gammaval=np.logspace(-2, 6, 50))"
     ],
     "language": "python",
     "metadata": {},
     "outputs": [
      {
       "output_type": "stream",
       "stream": "stderr",
       "text": [
        "/home/aaron/code/sparse_dmd/sparse_dmd/sparse_dmd.py:338: RuntimeWarning: invalid value encountered in sqrt\n",
        "  np.sqrt(polished_residual / self.dmd.s)\n"
       ]
      }
     ],
     "prompt_number": 3
    },
    {
     "cell_type": "markdown",
     "metadata": {},
     "source": [
      "look at modes, reconstruct data.\n",
      "\n",
      "\n",
      "## Compare basic flow characterisation before and after\n",
      "\n",
      "## Compare pdf before and after\n",
      "\n",
      "\n"
     ]
    }
   ],
   "metadata": {}
  }
 ]
}